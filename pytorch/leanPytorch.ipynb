import torch
x = torch.tensor([1,2])
