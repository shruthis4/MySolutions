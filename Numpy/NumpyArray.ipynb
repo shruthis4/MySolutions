{
 "cells": [
  {
   "cell_type": "code",
   "execution_count": 5,
   "metadata": {},
   "outputs": [
    {
     "name": "stdout",
     "output_type": "stream",
     "text": [
      "The numpy array is [[[1 2]\n",
      "  [3 4]]]\n",
      "The shape of the array is (1, 2, 2)\n",
      "The num dimensions in array is 3\n",
      "The data type is int64\n",
      "The num of elements  is 4\n",
      "The byte size is 8\n"
     ]
    }
   ],
   "source": [
    "import numpy as np\n",
    "# this creates a s 3-d array. You can identifiy by the number of sqaure brackets\n",
    "a = np.array([[[1,2],[3,4]]])\n",
    "print(f\"The numpy array is {a}\")\n",
    "print(f\"The shape of the array is {a.shape}\")\n",
    "print(f\"The num dimensions in array is {a.ndim}\")\n",
    "print(f\"The data type is {a.dtype}\")\n",
    "print(f\"The num of elements  is {a.size}\")\n",
    "print(f\"The byte size is {a.itemsize}\")"
   ]
  },
  {
   "cell_type": "markdown",
   "metadata": {},
   "source": [
    "Numpy is core library for scientific computations, n-d array is the integral cahrarcteristic of numpy.\n",
    "Applications include deeplearing, datascience. scikit-learn and matlaplotlib and pandas are based of this. The code is fast since it is C based."
   ]
  },
  {
   "cell_type": "code",
   "execution_count": 17,
   "metadata": {},
   "outputs": [
    {
     "name": "stdout",
     "output_type": "stream",
     "text": [
      "[[1 2]\n",
      " [3 4]]\n",
      "[3 4]\n",
      "[[3 4]]\n",
      "[[1 2]]\n",
      "4\n"
     ]
    }
   ],
   "source": [
    "# referencing a numpy array\n",
    "print(a[0])\n",
    "print(a[0,1])\n",
    "print(a[:,1])#slicing\n",
    "print(a[:,-2])#negative indexing\n",
    "print(a[0,1,1])"
   ]
  },
  {
   "cell_type": "markdown",
   "metadata": {},
   "source": [
    "Numpy does elementwise operations. It is faster that python list. numpy also does broadcasting.\n"
   ]
  },
  {
   "cell_type": "code",
   "execution_count": 25,
   "metadata": {},
   "outputs": [
    {
     "name": "stdout",
     "output_type": "stream",
     "text": [
      "Shape of the n1 (1000,)\n",
      "Time elapsed for dot operation of lists -0.00042438507080078125\n",
      "Time elapsed for dot operation of numpy -9.322166442871094e-05\n"
     ]
    }
   ],
   "source": [
    "import time\n",
    "n1 = np.random.randn(1000)\n",
    "n2 = np.random.randn(1000)\n",
    "print(f\"Shape of the n1 {n1.shape}\")\n",
    "l1 = list(n1)\n",
    "l2 = list(n2)\n",
    "dot=0\n",
    "startlist = time.time()\n",
    "for i in range(len(l1)):\n",
    "    dot+=l1[i]*l2[i]\n",
    "endlist = time.time()\n",
    "print(f\"Time elapsed for dot operation of lists {startlist-endlist}\")\n",
    "\n",
    "startnumpy =time.time()\n",
    "dotNumpy = np.dot(n1,n2)\n",
    "endnumpy = time.time()\n",
    "print(f\"Time elapsed for dot operation of numpy {startnumpy-endnumpy}\")\n"
   ]
  },
  {
   "cell_type": "code",
   "execution_count": 38,
   "metadata": {},
   "outputs": [
    {
     "name": "stdout",
     "output_type": "stream",
     "text": [
      "[[False False]\n",
      " [ True  True]\n",
      " [ True  True]]\n",
      "[3 4 5 6]\n",
      "[[-1 -1]\n",
      " [ 3  4]\n",
      " [ 5  6]]\n",
      "[30 41]\n"
     ]
    }
   ],
   "source": [
    "#boolean indexing\n",
    "l = np.array([[1,2],[3,4],[5,6]])\n",
    "b=l>2\n",
    "print(b)\n",
    "print(l[l>2])\n",
    "\n",
    "#where method\n",
    "print(np.where(l>2,l,-1))\n",
    "l2 = np.array([10,19,30,41])\n",
    "\n",
    "#FANCY INDEXING\n",
    "b = [2,3]\n",
    "print(l2[2:])\n",
    "\n"
   ]
  }
 ],
 "metadata": {
  "kernelspec": {
   "display_name": "venv",
   "language": "python",
   "name": "python3"
  },
  "language_info": {
   "codemirror_mode": {
    "name": "ipython",
    "version": 3
   },
   "file_extension": ".py",
   "mimetype": "text/x-python",
   "name": "python",
   "nbconvert_exporter": "python",
   "pygments_lexer": "ipython3",
   "version": "3.12.0"
  }
 },
 "nbformat": 4,
 "nbformat_minor": 2
}
